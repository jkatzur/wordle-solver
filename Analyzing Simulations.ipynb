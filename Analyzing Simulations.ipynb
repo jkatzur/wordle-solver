{
 "cells": [
  {
   "cell_type": "code",
   "execution_count": 49,
   "id": "5d1dbcaa",
   "metadata": {},
   "outputs": [],
   "source": [
    "import pandas\n",
    "import json"
   ]
  },
  {
   "cell_type": "markdown",
   "id": "e6c6227a",
   "metadata": {},
   "source": [
    "### Start with basic game level analysis\n",
    "This tells us that in our sample set of starter words `turns`, `times`, and `means` are the ones leading to lower number of turns to solve (using the word_freq method). We had previously found that `rates` was likely to reduce the number of possible remaining words the most, so it's somewhat surprising it isn't higher on the list.\n",
    "\n",
    "Some randomness, or also something about these higher words that are making them perform better than other words that more dramatically reduce the number of possible remaining words"
   ]
  },
  {
   "cell_type": "code",
   "execution_count": 52,
   "id": "5541c33a",
   "metadata": {},
   "outputs": [],
   "source": [
    "df_game = pandas.read_csv('./simulations/gamelog_wordfreq.csv')"
   ]
  },
  {
   "cell_type": "code",
   "execution_count": 53,
   "id": "7e740d50",
   "metadata": {},
   "outputs": [
    {
     "data": {
      "text/html": [
       "<div>\n",
       "<style scoped>\n",
       "    .dataframe tbody tr th:only-of-type {\n",
       "        vertical-align: middle;\n",
       "    }\n",
       "\n",
       "    .dataframe tbody tr th {\n",
       "        vertical-align: top;\n",
       "    }\n",
       "\n",
       "    .dataframe thead th {\n",
       "        text-align: right;\n",
       "    }\n",
       "</style>\n",
       "<table border=\"1\" class=\"dataframe\">\n",
       "  <thead>\n",
       "    <tr style=\"text-align: right;\">\n",
       "      <th></th>\n",
       "      <th>turns</th>\n",
       "    </tr>\n",
       "    <tr>\n",
       "      <th>first_guess</th>\n",
       "      <th></th>\n",
       "    </tr>\n",
       "  </thead>\n",
       "  <tbody>\n",
       "    <tr>\n",
       "      <th>taken</th>\n",
       "      <td>4.45</td>\n",
       "    </tr>\n",
       "    <tr>\n",
       "      <th>times</th>\n",
       "      <td>4.46</td>\n",
       "    </tr>\n",
       "    <tr>\n",
       "      <th>means</th>\n",
       "      <td>4.47</td>\n",
       "    </tr>\n",
       "    <tr>\n",
       "      <th>child</th>\n",
       "      <td>4.49</td>\n",
       "    </tr>\n",
       "    <tr>\n",
       "      <th>games</th>\n",
       "      <td>4.52</td>\n",
       "    </tr>\n",
       "    <tr>\n",
       "      <th>...</th>\n",
       "      <td>...</td>\n",
       "    </tr>\n",
       "    <tr>\n",
       "      <th>local</th>\n",
       "      <td>5.12</td>\n",
       "    </tr>\n",
       "    <tr>\n",
       "      <th>state</th>\n",
       "      <td>5.18</td>\n",
       "    </tr>\n",
       "    <tr>\n",
       "      <th>leave</th>\n",
       "      <td>5.21</td>\n",
       "    </tr>\n",
       "    <tr>\n",
       "      <th>check</th>\n",
       "      <td>5.22</td>\n",
       "    </tr>\n",
       "    <tr>\n",
       "      <th>level</th>\n",
       "      <td>5.32</td>\n",
       "    </tr>\n",
       "  </tbody>\n",
       "</table>\n",
       "<p>101 rows × 1 columns</p>\n",
       "</div>"
      ],
      "text/plain": [
       "             turns\n",
       "first_guess       \n",
       "taken         4.45\n",
       "times         4.46\n",
       "means         4.47\n",
       "child         4.49\n",
       "games         4.52\n",
       "...            ...\n",
       "local         5.12\n",
       "state         5.18\n",
       "leave         5.21\n",
       "check         5.22\n",
       "level         5.32\n",
       "\n",
       "[101 rows x 1 columns]"
      ]
     },
     "execution_count": 53,
     "metadata": {},
     "output_type": "execute_result"
    }
   ],
   "source": [
    "df_game.groupby('first_guess').agg({'turns': 'mean'}).sort_values('turns', ascending=True)"
   ]
  },
  {
   "cell_type": "code",
   "execution_count": 62,
   "id": "a141cef2",
   "metadata": {},
   "outputs": [
    {
     "data": {
      "text/plain": [
       "turns    4.72\n",
       "dtype: float64"
      ]
     },
     "execution_count": 62,
     "metadata": {},
     "output_type": "execute_result"
    }
   ],
   "source": [
    "# We have previously found rates to be the best word based on our model of word value \n",
    "df_game[df_game['first_guess'] == 'rates'].agg({'turns': 'mean'})"
   ]
  },
  {
   "cell_type": "markdown",
   "id": "9f0d6451",
   "metadata": {},
   "source": [
    "#### Now let's do turn level analysis"
   ]
  },
  {
   "cell_type": "code",
   "execution_count": 54,
   "id": "186e565a",
   "metadata": {},
   "outputs": [],
   "source": [
    "df_turn = pandas.read_csv('./simulations/turnlog_wordfreq.csv')"
   ]
  },
  {
   "cell_type": "code",
   "execution_count": 69,
   "id": "fdcccd87",
   "metadata": {},
   "outputs": [],
   "source": [
    "df_combined = df_turn.merge(df_game, on=\"game_id\")"
   ]
  },
  {
   "cell_type": "markdown",
   "id": "bd58e093",
   "metadata": {},
   "source": [
    "**Starting with which word most reduces the number of possible words on the second guess**\n",
    "We see that this is `rates`! As my separate analysis suggested it should be. We'll need to dive in to know why rates"
   ]
  },
  {
   "cell_type": "code",
   "execution_count": 76,
   "id": "0f1116d6",
   "metadata": {},
   "outputs": [
    {
     "data": {
      "text/html": [
       "<div>\n",
       "<style scoped>\n",
       "    .dataframe tbody tr th:only-of-type {\n",
       "        vertical-align: middle;\n",
       "    }\n",
       "\n",
       "    .dataframe tbody tr th {\n",
       "        vertical-align: top;\n",
       "    }\n",
       "\n",
       "    .dataframe thead th {\n",
       "        text-align: right;\n",
       "    }\n",
       "</style>\n",
       "<table border=\"1\" class=\"dataframe\">\n",
       "  <thead>\n",
       "    <tr style=\"text-align: right;\">\n",
       "      <th></th>\n",
       "      <th>words_possible</th>\n",
       "    </tr>\n",
       "    <tr>\n",
       "      <th>first_guess</th>\n",
       "      <th></th>\n",
       "    </tr>\n",
       "  </thead>\n",
       "  <tbody>\n",
       "    <tr>\n",
       "      <th>rates</th>\n",
       "      <td>1039.15</td>\n",
       "    </tr>\n",
       "    <tr>\n",
       "      <th>means</th>\n",
       "      <td>1286.27</td>\n",
       "    </tr>\n",
       "    <tr>\n",
       "      <th>later</th>\n",
       "      <td>1346.53</td>\n",
       "    </tr>\n",
       "    <tr>\n",
       "      <th>least</th>\n",
       "      <td>1385.57</td>\n",
       "    </tr>\n",
       "    <tr>\n",
       "      <th>taken</th>\n",
       "      <td>1423.24</td>\n",
       "    </tr>\n",
       "    <tr>\n",
       "      <th>...</th>\n",
       "      <td>...</td>\n",
       "    </tr>\n",
       "    <tr>\n",
       "      <th>every</th>\n",
       "      <td>6612.68</td>\n",
       "    </tr>\n",
       "    <tr>\n",
       "      <th>check</th>\n",
       "      <td>8627.34</td>\n",
       "    </tr>\n",
       "    <tr>\n",
       "      <th>known</th>\n",
       "      <td>8752.64</td>\n",
       "    </tr>\n",
       "    <tr>\n",
       "      <th>which</th>\n",
       "      <td>9452.01</td>\n",
       "    </tr>\n",
       "    <tr>\n",
       "      <th>level</th>\n",
       "      <td>9466.57</td>\n",
       "    </tr>\n",
       "  </tbody>\n",
       "</table>\n",
       "<p>101 rows × 1 columns</p>\n",
       "</div>"
      ],
      "text/plain": [
       "             words_possible\n",
       "first_guess                \n",
       "rates               1039.15\n",
       "means               1286.27\n",
       "later               1346.53\n",
       "least               1385.57\n",
       "taken               1423.24\n",
       "...                     ...\n",
       "every               6612.68\n",
       "check               8627.34\n",
       "known               8752.64\n",
       "which               9452.01\n",
       "level               9466.57\n",
       "\n",
       "[101 rows x 1 columns]"
      ]
     },
     "execution_count": 76,
     "metadata": {},
     "output_type": "execute_result"
    }
   ],
   "source": [
    "df_combined[df_combined['turn_number'] == 2].groupby('first_guess').agg({'words_possible': 'mean'}).sort_values('words_possible', ascending=True)"
   ]
  },
  {
   "cell_type": "code",
   "execution_count": null,
   "id": "9bf5487e",
   "metadata": {},
   "outputs": [],
   "source": []
  },
  {
   "cell_type": "markdown",
   "id": "bedd81aa",
   "metadata": {},
   "source": []
  }
 ],
 "metadata": {
  "kernelspec": {
   "display_name": "Python 3 (ipykernel)",
   "language": "python",
   "name": "python3"
  },
  "language_info": {
   "codemirror_mode": {
    "name": "ipython",
    "version": 3
   },
   "file_extension": ".py",
   "mimetype": "text/x-python",
   "name": "python",
   "nbconvert_exporter": "python",
   "pygments_lexer": "ipython3",
   "version": "3.8.12"
  }
 },
 "nbformat": 4,
 "nbformat_minor": 5
}
