{
 "cells": [
  {
   "cell_type": "markdown",
   "id": "b63df8eb",
   "metadata": {},
   "source": [
    "# Analyzing Wordle Simulations"
   ]
  },
  {
   "cell_type": "markdown",
   "id": "c655cc80",
   "metadata": {},
   "source": [
    "## Goal to create optimal wordle guessing strategy\n",
    "**Key steps**\n",
    "1. Build solver that can score all potential guesses based on a variety of features\n",
    "2. Create simulation capability to run many games with psuedo random guessing scoring each guess by the variety of features\n",
    "3. Use results from simulation to understand impact of variety of features on key game goals...\n",
    "    1. Likelihood of a given word to be the correct guess\n",
    "    2. Estimated value of a given word in reducing guesses remaining\n",
    "\n",
    "**Key assumptions**\n",
    "* I will build everything with a self-made version of wordle that accepts any alphanumeric word of a given length. This means it will be _worse_ at purely helping with the game of wordle (as I will train on a wider corpus than the actual wordle corpus)\n",
    "* My wordleGame picks one of the top 10,000 most common English words for a given length using `get_frequency_dict('en', wordlist='best')`. Guesses can come from any of the words in that corpus\n",
    "* I choose to set this up to play on hard mode. This means that each subsequent guess _must_ use information obtained in prior guesses. https://www.gamerevolution.com/guides/699992-wordle-hard-mode-how-to-turn-on-differences-harder-expert"
   ]
  },
  {
   "cell_type": "code",
   "execution_count": 2,
   "id": "fa8c6323",
   "metadata": {},
   "outputs": [],
   "source": [
    "# Importing relevant libraries\n",
    "import pandas\n",
    "import json\n",
    "import matplotlib\n",
    "from matplotlib import pyplot\n",
    "import seaborn as sns\n",
    "import random\n",
    "from wordleSimulator import run_simulation\n",
    "import numpy as np"
   ]
  },
  {
   "cell_type": "markdown",
   "id": "6b3f0972",
   "metadata": {},
   "source": [
    "#### Step 1: Build wordleSolver"
   ]
  },
  {
   "cell_type": "markdown",
   "id": "41e874f1",
   "metadata": {},
   "source": [
    "You can find the wordleSolver I created elsewhere in this directory. The key information on the solver are the features that I ended up scoring against.\n",
    "\n",
    "**Data we track**\n",
    "* Game relevant data: information we have at this point in the game\n",
    "    1. `turn_number`: which turn we are on in the game\n",
    "    2. `words_possible`: how many potential words remain in our corpus\n",
    "    3. `letter_in`: set of letters we confirmed **are** in the word\n",
    "    4. `letter_out`: set of letters we confirmed are **not** in the word\n",
    "    5. `pos_yes`: array of sets for letters we confirmed **are** in a given position (e.g green boxes)\n",
    "    6. `pos_no`: array of sets for letters we confirmed are **not** a given position (e.g grey or yellow boxes)\n",
    "\n",
    "\n",
    "* Guess: information we have for each potential guess\n",
    "    1. `freq`: the word_frequency of a given word from the word_frequency corpus\n",
    "    2. `letter_scores_by_word`: after each guess we take all the remaining possible words and count how many of each letter is in the remaining potential word list. We then give each potential guess a score if it includes the most common remaining letters\n",
    "    3. `letter_scores_by_freq`: same as above, but weighting based on frequency of remaining words (e.g `their` will count more than `gyong` because it is much more frequently used\n",
    "    4. `letter_scores_pos_perc`: similar to letter scores, but by frequency. If 50% of remaining words had a letter a second words with letter a second will get higher scores\n",
    "    5. `letter_scores_pos_freq`: same as above, but weighted by frequency of remaining words"
   ]
  },
  {
   "cell_type": "markdown",
   "id": "132abe97",
   "metadata": {},
   "source": [
    "#### Step 2: Build simulation"
   ]
  },
  {
   "cell_type": "markdown",
   "id": "0a9c97cf",
   "metadata": {},
   "source": [
    "You can find the wordleSimulation I created elsewhere in this directory. Most importantly in this section I will show the code I used to create the sample data I used to train various models.\n",
    "\n",
    "**Please note: simulations will take a long time to ready, depending on your machine! It's worth testing how long it takes and deciding how big a simulation you want to run.**"
   ]
  },
  {
   "cell_type": "code",
   "execution_count": null,
   "id": "302da414",
   "metadata": {},
   "outputs": [],
   "source": [
    "# Run 5,000 simulations. These simulations will be based on 100 starting words\n",
    "# Each starting word will have 50 different wordleSolver's guess until we get the right word\n",
    "# I did this in order to investigate differences based on randomness and attempt to understand\n",
    "# What kind of strategies led to the slowest and fastest guesses for the same word\n",
    "\n",
    "for i in range(100):\n",
    "    run_simulation(n_letters=5, sims=50, same_word=True, random_guess = True, \\\n",
    "                   game_log='./simulations/gamelog_same_final_word.csv', \\\n",
    "                   turn_log='./simulations/turnlog_same_final_word.csv', start_word=None)\n"
   ]
  },
  {
   "cell_type": "code",
   "execution_count": null,
   "id": "468cf232",
   "metadata": {},
   "outputs": [],
   "source": [
    "# Run 1,000 simulations choosing a random starter word AND random guessing the whole way\n",
    "for i in range(1000):\n",
    "    run_simulation(n_letters=5, sims=1, same_word=False, random_guess = True, \\\n",
    "                   game_log='./simulations/gamelog_random_words_only.csv', \\\n",
    "                   turn_log='./simulations/turnlog_random_words_only.csv', start_word=None)\n",
    "    "
   ]
  },
  {
   "cell_type": "code",
   "execution_count": null,
   "id": "803556f8",
   "metadata": {},
   "outputs": [],
   "source": [
    "# Run 1,000 simulations with a simple model that equally weights the four features we have `letter_score_by_word`,\n",
    "# `letter_scores_by_freq`, `letter_scores_pos_perc`, `letter_scores_pos_freq`\n",
    "# Run on the words that this model projects are the best starter words\n",
    "top_model_words_to_test = ['their', 'about', 'other', 'after', 'years', 'great', 'those', 'raise', 'there', 'rates',\n",
    "            'later', 'arise', 'aires', 'aries', 'arose', 'tears', 'stare', 'artie', 'irate', 'taser', 'aster', 'least',\n",
    "            'first', 'oates', 'share', 'heart', 'arnie', 'reina', 'raine', 'einar', 'irena', 'earns', 'snare', 'nears',\n",
    "            'arent', 'siena', 'anise', 'eason', 'earth', 'laser', 'learn', 'eatin', 'ariel', 'eaton', 'earls', 'reals', 'arles']\n",
    "\n",
    "for w in top_model_words_to_test:\n",
    "    print(f\"Working on: {w}...\")\n",
    "    run_simulation(n_letters=5, sims=20, game_log='./simulations/gamelog_model.csv', turn_log='./simulations/turnlog_model.csv', start_word=w)"
   ]
  },
  {
   "cell_type": "markdown",
   "id": "113ac19b",
   "metadata": {},
   "source": [
    "#### Step 3: Use results from simulation to understand various features on solving wordle"
   ]
  },
  {
   "cell_type": "markdown",
   "id": "2021ecfa",
   "metadata": {},
   "source": [
    "**Starting with game analysis for random guessing**"
   ]
  },
  {
   "cell_type": "code",
   "execution_count": 4,
   "id": "9b7d9dd3",
   "metadata": {},
   "outputs": [],
   "source": [
    "df = pandas.read_csv('./simulations/gamelog_same_final_word.csv')"
   ]
  },
  {
   "cell_type": "code",
   "execution_count": 7,
   "id": "37aa6168",
   "metadata": {},
   "outputs": [
    {
     "data": {
      "text/plain": [
       "5001"
      ]
     },
     "execution_count": 7,
     "metadata": {},
     "output_type": "execute_result"
    }
   ],
   "source": [
    "# Number of games in this dataset\n",
    "len(df)"
   ]
  },
  {
   "cell_type": "code",
   "execution_count": 12,
   "id": "9e99482c",
   "metadata": {},
   "outputs": [
    {
     "data": {
      "text/plain": [
       "<AxesSubplot:>"
      ]
     },
     "execution_count": 12,
     "metadata": {},
     "output_type": "execute_result"
    },
    {
     "data": {
      "image/png": "[encoded data removed]",
      "text/plain": [
       "<Figure size 432x288 with 1 Axes>"
      ]
     },
     "metadata": {
      "needs_background": "light"
     },
     "output_type": "display_data"
    }
   ],
   "source": [
    "df['turns'].hist()"
   ]
  },
  {
   "cell_type": "code",
   "execution_count": 14,
   "id": "717622e7",
   "metadata": {},
   "outputs": [
    {
     "data": {
      "text/html": [
       "<div>\n",
       "<style scoped>\n",
       "    .dataframe tbody tr th:only-of-type {\n",
       "        vertical-align: middle;\n",
       "    }\n",
       "\n",
       "    .dataframe tbody tr th {\n",
       "        vertical-align: top;\n",
       "    }\n",
       "\n",
       "    .dataframe thead th {\n",
       "        text-align: right;\n",
       "    }\n",
       "</style>\n",
       "<table border=\"1\" class=\"dataframe\">\n",
       "  <thead>\n",
       "    <tr style=\"text-align: right;\">\n",
       "      <th></th>\n",
       "      <th>turns</th>\n",
       "    </tr>\n",
       "  </thead>\n",
       "  <tbody>\n",
       "    <tr>\n",
       "      <th>mean</th>\n",
       "      <td>5.988802</td>\n",
       "    </tr>\n",
       "    <tr>\n",
       "      <th>count</th>\n",
       "      <td>5001.000000</td>\n",
       "    </tr>\n",
       "    <tr>\n",
       "      <th>median</th>\n",
       "      <td>6.000000</td>\n",
       "    </tr>\n",
       "    <tr>\n",
       "      <th>std</th>\n",
       "      <td>1.972581</td>\n",
       "    </tr>\n",
       "  </tbody>\n",
       "</table>\n",
       "</div>"
      ],
      "text/plain": [
       "              turns\n",
       "mean       5.988802\n",
       "count   5001.000000\n",
       "median     6.000000\n",
       "std        1.972581"
      ]
     },
     "execution_count": 14,
     "metadata": {},
     "output_type": "execute_result"
    }
   ],
   "source": [
    "df.agg({'turns': ['mean', 'count', 'median', 'std']})"
   ]
  },
  {
   "cell_type": "markdown",
   "id": "0d7bb7d2",
   "metadata": {},
   "source": [
    "Overall - random guessing is surprisingly effective, at least when the guesses are restricted to possible words. Let's compare that to a very basic non-weighted modeled approach"
   ]
  },
  {
   "cell_type": "code",
   "execution_count": 21,
   "id": "db8714a6",
   "metadata": {},
   "outputs": [],
   "source": [
    "df_base_rank = pandas.read_csv('./simulations/gamelog_model.csv')"
   ]
  },
  {
   "cell_type": "code",
   "execution_count": 22,
   "id": "68d79176",
   "metadata": {},
   "outputs": [
    {
     "data": {
      "text/plain": [
       "4701"
      ]
     },
     "execution_count": 22,
     "metadata": {},
     "output_type": "execute_result"
    }
   ],
   "source": [
    "# Number of games in this dataset\n",
    "len(df_base_rank)"
   ]
  },
  {
   "cell_type": "code",
   "execution_count": 23,
   "id": "c730abe2",
   "metadata": {},
   "outputs": [
    {
     "data": {
      "text/plain": [
       "<AxesSubplot:>"
      ]
     },
     "execution_count": 23,
     "metadata": {},
     "output_type": "execute_result"
    },
    {
     "data": {
      "image/png": "[encoded data removed]",
      "text/plain": [
       "<Figure size 432x288 with 1 Axes>"
      ]
     },
     "metadata": {
      "needs_background": "light"
     },
     "output_type": "display_data"
    }
   ],
   "source": [
    "df_base_rank['turns'].hist()"
   ]
  },
  {
   "cell_type": "code",
   "execution_count": 24,
   "id": "cf36d79b",
   "metadata": {},
   "outputs": [
    {
     "data": {
      "text/html": [
       "<div>\n",
       "<style scoped>\n",
       "    .dataframe tbody tr th:only-of-type {\n",
       "        vertical-align: middle;\n",
       "    }\n",
       "\n",
       "    .dataframe tbody tr th {\n",
       "        vertical-align: top;\n",
       "    }\n",
       "\n",
       "    .dataframe thead th {\n",
       "        text-align: right;\n",
       "    }\n",
       "</style>\n",
       "<table border=\"1\" class=\"dataframe\">\n",
       "  <thead>\n",
       "    <tr style=\"text-align: right;\">\n",
       "      <th></th>\n",
       "      <th>turns</th>\n",
       "    </tr>\n",
       "  </thead>\n",
       "  <tbody>\n",
       "    <tr>\n",
       "      <th>mean</th>\n",
       "      <td>4.641991</td>\n",
       "    </tr>\n",
       "    <tr>\n",
       "      <th>count</th>\n",
       "      <td>4701.000000</td>\n",
       "    </tr>\n",
       "    <tr>\n",
       "      <th>median</th>\n",
       "      <td>4.000000</td>\n",
       "    </tr>\n",
       "    <tr>\n",
       "      <th>std</th>\n",
       "      <td>1.324441</td>\n",
       "    </tr>\n",
       "  </tbody>\n",
       "</table>\n",
       "</div>"
      ],
      "text/plain": [
       "              turns\n",
       "mean       4.641991\n",
       "count   4701.000000\n",
       "median     4.000000\n",
       "std        1.324441"
      ]
     },
     "execution_count": 24,
     "metadata": {},
     "output_type": "execute_result"
    }
   ],
   "source": [
    "df_base_rank.agg({'turns': ['mean', 'count', 'median', 'std']})"
   ]
  },
  {
   "cell_type": "code",
   "execution_count": 25,
   "id": "75a8b81e",
   "metadata": {},
   "outputs": [
    {
     "data": {
      "image/png": "[encoded data removed]",
      "text/plain": [
       "<Figure size 432x288 with 1 Axes>"
      ]
     },
     "metadata": {
      "needs_background": "light"
     },
     "output_type": "display_data"
    }
   ],
   "source": [
    "pyplot.hist([df['turns'],df_base_rank['turns']], label=['random', 'base_rank'])\n",
    "pyplot.legend(loc='upper right')\n",
    "pyplot.show()"
   ]
  },
  {
   "cell_type": "markdown",
   "id": "7e62fe5b",
   "metadata": {},
   "source": [
    "Picking the top word by a simple ranking does a lot better than random! (phew). Let's see if we can improve on this further with modeling"
   ]
  }
 ],
 "metadata": {
  "kernelspec": {
   "display_name": "Python 3 (ipykernel)",
   "language": "python",
   "name": "python3"
  },
  "language_info": {
   "codemirror_mode": {
    "name": "ipython",
    "version": 3
   },
   "file_extension": ".py",
   "mimetype": "text/x-python",
   "name": "python",
   "nbconvert_exporter": "python",
   "pygments_lexer": "ipython3",
   "version": "3.8.12"
  }
 },
 "nbformat": 4,
 "nbformat_minor": 5
}
